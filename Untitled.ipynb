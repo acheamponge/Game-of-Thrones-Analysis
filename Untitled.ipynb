{
 "cells": [
  {
   "cell_type": "code",
   "execution_count": 4,
   "metadata": {},
   "outputs": [
    {
     "name": "stdout",
     "output_type": "stream",
     "text": [
      "Running on http://127.0.0.1:8050/\n",
      "Debugger PIN: 574-030-179\n",
      " * Serving Flask app \"__main__\" (lazy loading)\n",
      " * Environment: production\n",
      "   WARNING: Do not use the development server in a production environment.\n",
      "   Use a production WSGI server instead.\n",
      " * Debug mode: on\n"
     ]
    },
    {
     "ename": "SystemExit",
     "evalue": "1",
     "output_type": "error",
     "traceback": [
      "An exception has occurred, use %tb to see the full traceback.\n",
      "\u001b[1;31mSystemExit\u001b[0m\u001b[1;31m:\u001b[0m 1\n"
     ]
    },
    {
     "name": "stderr",
     "output_type": "stream",
     "text": [
      "C:\\Users\\acham\\Anaconda3\\lib\\site-packages\\IPython\\core\\interactiveshell.py:2969: UserWarning:\n",
      "\n",
      "To exit: use 'exit', 'quit', or Ctrl-D.\n",
      "\n"
     ]
    }
   ],
   "source": [
    "import dash\n",
    "import dash_core_components as dcc\n",
    "import dash_html_components as html\n",
    "\n",
    "external_stylesheets = ['https://codepen.io/chriddyp/pen/bWLwgP.css']\n",
    "\n",
    "app = dash.Dash(__name__, external_stylesheets=external_stylesheets)\n",
    "\n",
    "app.layout = html.Div(children=[\n",
    "    html.H1(children='Hello Dash'),\n",
    "\n",
    "    html.Div(children='''\n",
    "        Dash: A web application framework for Python.\n",
    "    '''),\n",
    "\n",
    "    dcc.Graph(\n",
    "        id='example-graph',\n",
    "        figure={\n",
    "            'data': [\n",
    "                {'x': [1, 2, 3], 'y': [4, 1, 2], 'type': 'bar', 'name': 'SF'},\n",
    "                {'x': [1, 2, 3], 'y': [2, 4, 5], 'type': 'bar', 'name': u'Montréal'},\n",
    "            ],\n",
    "            'layout': {\n",
    "                'title': 'Dash Data Visualization'\n",
    "            }\n",
    "        }\n",
    "    )\n",
    "])\n",
    "\n",
    "if __name__ == '__main__':\n",
    "    app.run_server(debug=True)"
   ]
  },
  {
   "cell_type": "code",
   "execution_count": 2,
   "metadata": {},
   "outputs": [
    {
     "name": "stdout",
     "output_type": "stream",
     "text": [
      "Collecting dash\n",
      "  Downloading https://files.pythonhosted.org/packages/ae/9d/b6681a3d23b5a69e5b005f3174057db7350545f219f2a2cf6b3ccf93bdb2/dash-0.41.0.tar.gz (41kB)\n",
      "Requirement already satisfied: Flask>=0.12 in c:\\users\\acham\\anaconda3\\lib\\site-packages (from dash) (1.0.2)\n",
      "Collecting flask-compress (from dash)\n",
      "  Downloading https://files.pythonhosted.org/packages/0e/2a/378bd072928f6d92fd8c417d66b00c757dc361c0405a46a0134de6fd323d/Flask-Compress-1.4.0.tar.gz\n",
      "Requirement already satisfied: plotly in c:\\users\\acham\\anaconda3\\lib\\site-packages (from dash) (3.4.2)\n",
      "Collecting dash_renderer==0.22.0 (from dash)\n",
      "  Downloading https://files.pythonhosted.org/packages/e5/e3/5de23e4ff05c62c32ee1d49c7cdfc737e1360eeaac526c469a410225dc74/dash_renderer-0.22.0.tar.gz (889kB)\n",
      "Collecting dash-core-components==0.46.0 (from dash)\n",
      "  Downloading https://files.pythonhosted.org/packages/79/5e/638cf57cfe1d4dee5e4059671ab823c0a2ae5f3526d64bbd1e5a822d64f9/dash_core_components-0.46.0.tar.gz (4.4MB)\n",
      "Collecting dash-html-components==0.15.0 (from dash)\n",
      "  Downloading https://files.pythonhosted.org/packages/d3/0d/fc3c5bc89c0cc8678d0fb237ab7cb3cdc5b060635ab0c25b4d2c1495cfdb/dash_html_components-0.15.0.tar.gz (536kB)\n",
      "Collecting dash-table==3.6.0 (from dash)\n",
      "  Downloading https://files.pythonhosted.org/packages/a3/3a/eae584bb7eccdf93d2931c4ebf43e55937cf22d51ad63551241fc83d68fc/dash_table-3.6.0.tar.gz (468kB)\n",
      "Requirement already satisfied: click>=5.1 in c:\\users\\acham\\anaconda3\\lib\\site-packages (from Flask>=0.12->dash) (6.7)\n",
      "Requirement already satisfied: Jinja2>=2.10 in c:\\users\\acham\\anaconda3\\lib\\site-packages (from Flask>=0.12->dash) (2.10)\n",
      "Requirement already satisfied: itsdangerous>=0.24 in c:\\users\\acham\\anaconda3\\lib\\site-packages (from Flask>=0.12->dash) (0.24)\n",
      "Requirement already satisfied: Werkzeug>=0.14 in c:\\users\\acham\\anaconda3\\lib\\site-packages (from Flask>=0.12->dash) (0.14.1)\n",
      "Requirement already satisfied: decorator>=4.0.6 in c:\\users\\acham\\anaconda3\\lib\\site-packages (from plotly->dash) (4.3.0)\n",
      "Requirement already satisfied: retrying>=1.3.3 in c:\\users\\acham\\anaconda3\\lib\\site-packages (from plotly->dash) (1.3.3)\n",
      "Requirement already satisfied: requests in c:\\users\\acham\\anaconda3\\lib\\site-packages (from plotly->dash) (2.19.1)\n",
      "Requirement already satisfied: six in c:\\users\\acham\\anaconda3\\lib\\site-packages (from plotly->dash) (1.11.0)\n",
      "Requirement already satisfied: nbformat>=4.2 in c:\\users\\acham\\anaconda3\\lib\\site-packages (from plotly->dash) (4.4.0)\n",
      "Requirement already satisfied: pytz in c:\\users\\acham\\anaconda3\\lib\\site-packages (from plotly->dash) (2018.5)\n",
      "Requirement already satisfied: MarkupSafe>=0.23 in c:\\users\\acham\\anaconda3\\lib\\site-packages (from Jinja2>=2.10->Flask>=0.12->dash) (1.0)\n",
      "Requirement already satisfied: idna<2.8,>=2.5 in c:\\users\\acham\\anaconda3\\lib\\site-packages (from requests->plotly->dash) (2.7)\n",
      "Requirement already satisfied: certifi>=2017.4.17 in c:\\users\\acham\\anaconda3\\lib\\site-packages (from requests->plotly->dash) (2018.10.15)\n",
      "Requirement already satisfied: chardet<3.1.0,>=3.0.2 in c:\\users\\acham\\anaconda3\\lib\\site-packages (from requests->plotly->dash) (3.0.4)\n",
      "Requirement already satisfied: urllib3<1.24,>=1.21.1 in c:\\users\\acham\\anaconda3\\lib\\site-packages (from requests->plotly->dash) (1.23)\n",
      "Requirement already satisfied: jsonschema!=2.5.0,>=2.4 in c:\\users\\acham\\anaconda3\\lib\\site-packages (from nbformat>=4.2->plotly->dash) (2.6.0)\n",
      "Requirement already satisfied: traitlets>=4.1 in c:\\users\\acham\\anaconda3\\lib\\site-packages (from nbformat>=4.2->plotly->dash) (4.3.2)\n",
      "Requirement already satisfied: ipython-genutils in c:\\users\\acham\\anaconda3\\lib\\site-packages (from nbformat>=4.2->plotly->dash) (0.2.0)\n",
      "Requirement already satisfied: jupyter-core in c:\\users\\acham\\anaconda3\\lib\\site-packages (from nbformat>=4.2->plotly->dash) (4.4.0)\n",
      "Building wheels for collected packages: dash, flask-compress, dash-renderer, dash-core-components, dash-html-components, dash-table\n",
      "  Building wheel for dash (setup.py): started\n",
      "  Building wheel for dash (setup.py): finished with status 'done'\n",
      "  Stored in directory: C:\\Users\\acham\\AppData\\Local\\pip\\Cache\\wheels\\c9\\ee\\a7\\d4d42da97cc8a41403d7a3b24a0ab7ae71072efa02e0b86b64\n",
      "  Building wheel for flask-compress (setup.py): started\n",
      "  Building wheel for flask-compress (setup.py): finished with status 'done'\n",
      "  Stored in directory: C:\\Users\\acham\\AppData\\Local\\pip\\Cache\\wheels\\96\\32\\88\\a1f6d9dd3c29570ab3a8acc0d556b3b20abcf3c623c868ce0a\n",
      "  Building wheel for dash-renderer (setup.py): started\n",
      "  Building wheel for dash-renderer (setup.py): finished with status 'done'\n",
      "  Stored in directory: C:\\Users\\acham\\AppData\\Local\\pip\\Cache\\wheels\\12\\5d\\5e\\7f0f8ff8624d39c52b84d817878c06f4826126b91d56fe4922\n",
      "  Building wheel for dash-core-components (setup.py): started\n",
      "  Building wheel for dash-core-components (setup.py): finished with status 'done'\n",
      "  Stored in directory: C:\\Users\\acham\\AppData\\Local\\pip\\Cache\\wheels\\29\\7f\\69\\53e216d3a9979790d890f638efe7c21a5b9e9b8ae617425953\n",
      "  Building wheel for dash-html-components (setup.py): started\n",
      "  Building wheel for dash-html-components (setup.py): finished with status 'done'\n",
      "  Stored in directory: C:\\Users\\acham\\AppData\\Local\\pip\\Cache\\wheels\\5d\\79\\3d\\4411117dcc820ba384bfc31dc9867660c6ea3ce507fb9ff658\n",
      "  Building wheel for dash-table (setup.py): started\n",
      "  Building wheel for dash-table (setup.py): finished with status 'done'\n",
      "  Stored in directory: C:\\Users\\acham\\AppData\\Local\\pip\\Cache\\wheels\\b9\\7e\\8a\\1249b5961f59668eba0471800e618c47b4219f77e2887536bd\n",
      "Successfully built dash flask-compress dash-renderer dash-core-components dash-html-components dash-table\n",
      "Installing collected packages: flask-compress, dash-renderer, dash-core-components, dash-html-components, dash-table, dash\n",
      "Successfully installed dash-0.41.0 dash-core-components-0.46.0 dash-html-components-0.15.0 dash-renderer-0.22.0 dash-table-3.6.0 flask-compress-1.4.0\n"
     ]
    },
    {
     "name": "stderr",
     "output_type": "stream",
     "text": [
      "You are using pip version 19.0.3, however version 19.1 is available.\n",
      "You should consider upgrading via the 'python -m pip install --upgrade pip' command.\n"
     ]
    }
   ],
   "source": [
    "import sys\n",
    "!{sys.executable} -m pip install dash"
   ]
  },
  {
   "cell_type": "code",
   "execution_count": 3,
   "metadata": {},
   "outputs": [
    {
     "name": "stdout",
     "output_type": "stream",
     "text": [
      "Collecting pip\n",
      "  Downloading https://files.pythonhosted.org/packages/f9/fb/863012b13912709c13cf5cfdbfb304fa6c727659d6290438e1a88df9d848/pip-19.1-py2.py3-none-any.whl (1.4MB)\n",
      "Installing collected packages: pip\n",
      "  Found existing installation: pip 19.0.3\n",
      "    Uninstalling pip-19.0.3:\n",
      "      Successfully uninstalled pip-19.0.3\n",
      "Successfully installed pip-19.1\n"
     ]
    }
   ],
   "source": [
    "import sys\n",
    "!{sys.executable} -m pip install --upgrade pip"
   ]
  },
  {
   "cell_type": "code",
   "execution_count": null,
   "metadata": {},
   "outputs": [],
   "source": []
  }
 ],
 "metadata": {
  "kernelspec": {
   "display_name": "Python 3",
   "language": "python",
   "name": "python3"
  },
  "language_info": {
   "codemirror_mode": {
    "name": "ipython",
    "version": 3
   },
   "file_extension": ".py",
   "mimetype": "text/x-python",
   "name": "python",
   "nbconvert_exporter": "python",
   "pygments_lexer": "ipython3",
   "version": "3.7.0"
  }
 },
 "nbformat": 4,
 "nbformat_minor": 2
}
